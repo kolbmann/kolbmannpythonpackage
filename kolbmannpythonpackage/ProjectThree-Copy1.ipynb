{
 "cells": [
  {
   "cell_type": "markdown",
   "metadata": {},
   "source": [
    "# Project Three\n",
    "\n",
    "Here's what you're going to do.\n",
    "\n",
    "## Part One\n",
    "\n",
    "You're going to run each of the functions in the package.\n",
    "\n",
    "(15 pts each Error 1, Error 2, Error 3)"
   ]
  },
  {
   "cell_type": "markdown",
   "metadata": {},
   "source": [
    "1) Error 1 - paste in the traceback. \n",
    "\n",
    "\n"
   ]
  },
  {
   "cell_type": "markdown",
   "metadata": {},
   "source": [
    "---------------------------------------------------------------------------\n",
    "AssertionError                            Traceback (most recent call last)\n",
    "<ipython-input-4-c1a222c05f0f> in <module>()\n",
    "----> 1 kolbmannpythonpackage.sequence_reader('../data/full_plethodon_alignment.phy')\n",
    "\n",
    "~/.local/lib/python3.6/site-packages/kolbmannpythonpackage/sequence_reader.py in sequence_reader(filepath)\n",
    "      5     #that the file exists\n",
    "      6     #that the file is in the right format\n",
    "----> 7     assert os.path.isfile(filepath)\n",
    "      8     sequence_set = dendropy.DnaCharacterMatrix.get(\n",
    "      9         path=filepath,\n",
    "\n",
    "AssertionError: "
   ]
  },
  {
   "cell_type": "markdown",
   "metadata": {},
   "source": [
    "2) Error 1 - What type of error is this? In your own words, what went wrong?"
   ]
  },
  {
   "cell_type": "markdown",
   "metadata": {},
   "source": [
    "This is an assertion error identifying a file is int his path. The missing file is not in the place I said it would be. "
   ]
  },
  {
   "cell_type": "markdown",
   "metadata": {},
   "source": [
    "3) Error 1 - Resolve this. In your own words, _how_ did you resolve the error? "
   ]
  },
  {
   "cell_type": "markdown",
   "metadata": {},
   "source": [
    "I backed up into CompBio2018.git directory and chose a different data file plethodon.phy. full_plethodon_aligment.phy is also not in phylip format so I chose a file that is in phylip format. "
   ]
  },
  {
   "cell_type": "markdown",
   "metadata": {},
   "source": [
    "No Points) If you googled the error, paste in a link to a website you found helpful."
   ]
  },
  {
   "cell_type": "markdown",
   "metadata": {},
   "source": [
    "5) Error 2 - paste in the traceback. \n",
    "\n",
    "\n"
   ]
  },
  {
   "cell_type": "markdown",
   "metadata": {},
   "source": [
    "---------------------------------------------------------------------------\n",
    "TypeError                                 Traceback (most recent call last)\n",
    "<ipython-input-5-0e9776bd5b5a> in <module>()\n",
    "----> 1 kolbmannpythonpackage.sequence_cleanup(\"../../data/plethodon.phy\", \"../../data/ouput/cleanup\",\"Plethodon_cheoah\", \"cytb\")\n",
    "\n",
    "~/.local/lib/python3.6/site-packages/kolbmannpythonpackage/sequence_cleanup.py in sequence_cleanup(sequence_set, out_file, taxon, gene)\n",
    "      4 def sequence_cleanup(sequence_set, out_file, taxon, gene):\n",
    "      5     #do files have taxon and gene\n",
    "----> 6     assert sequence_set[taxon]\n",
    "      7     #check what type the data are ie: object, float64, int\n",
    "      8     my_taxon_sequence = sequence_set[taxon].symbols_as_string()\n",
    "\n",
    "TypeError: string indices must be integers"
   ]
  },
  {
   "cell_type": "markdown",
   "metadata": {},
   "source": [
    "6) Error 2 - What type of error is this? In your own words, what went wrong?"
   ]
  },
  {
   "cell_type": "markdown",
   "metadata": {},
   "source": [
    "The indices of the taxon column is not an integer. cytb could not be called because it is not a list."
   ]
  },
  {
   "cell_type": "markdown",
   "metadata": {},
   "source": [
    "7) Error 2 - Resolve this. In your own words, _how_ did you resolve the error? "
   ]
  },
  {
   "cell_type": "markdown",
   "metadata": {},
   "source": [
    "sequence_reader needed to be saved as a variable and called as an argument for the sequence_set, the gene argument is deleted to have the genome of the chosen taxon in the out_file. gene_start and gene_end are added to choose the desired gene. A new line is added   my_taxon_sequence = my_taxon_sequence[gene_start:gene_end] to account for the gene specification. "
   ]
  },
  {
   "cell_type": "markdown",
   "metadata": {},
   "source": [
    "No Points) If you googled the error, paste in a link to a website you found helpful."
   ]
  },
  {
   "cell_type": "markdown",
   "metadata": {},
   "source": [
    "8) Error 3 - paste in the traceback. \n"
   ]
  },
  {
   "cell_type": "markdown",
   "metadata": {},
   "source": [
    "---------------------------------------------------------------------------\n",
    "NameError                                 Traceback (most recent call last)\n",
    "<ipython-input-4-b2bffd5be4db> in <module>()\n",
    "----> 1 kolbmannpythonpackage.sequence_blaster(\"../../data/output/cleanup.fa\", \"../../data/output/blast_results.fa\")\n",
    "\n",
    "~/.local/lib/python3.6/site-packages/kolbmannpythonpackage/sequence_blaster.py in sequence_blaster(fasta_path, results_path)\n",
    "      5     #check file format\n",
    "      6     result_path = SeqIO.read(fasta_path, format=\"fasta\")\n",
    "----> 7     result_path = NCBIWWW.qblast(\"blastn\", \"nt\", record.format(\"fasta\"))\n",
    "      8 \n",
    "      9     save_file = open(\"results_path\", \"w\")\n",
    "\n",
    "NameError: name 'record' is not defined"
   ]
  },
  {
   "cell_type": "markdown",
   "metadata": {},
   "source": [
    "9) Error 3 - What type of error is this? In your own words, what went wrong?"
   ]
  },
  {
   "cell_type": "markdown",
   "metadata": {},
   "source": [
    "variable error. Line 7 should = record not result path again."
   ]
  },
  {
   "cell_type": "markdown",
   "metadata": {},
   "source": [
    "10) Error 2 - Resolve this. In your own words, _how_ did you resolve the error? "
   ]
  },
  {
   "cell_type": "markdown",
   "metadata": {},
   "source": [
    "I changed the variable of Line 7 to record."
   ]
  },
  {
   "cell_type": "markdown",
   "metadata": {},
   "source": [
    "11) Google one of errors. What search phrase actually got you helpful results?"
   ]
  },
  {
   "cell_type": "markdown",
   "metadata": {},
   "source": [
    "python NameError: name 'record' is not defined"
   ]
  },
  {
   "cell_type": "markdown",
   "metadata": {},
   "source": [
    "## Part Two \n",
    "\n",
    "You're going to add one function to the package. "
   ]
  },
  {
   "cell_type": "markdown",
   "metadata": {},
   "source": [
    "1) (15pts) The function should be in its own file"
   ]
  },
  {
   "cell_type": "markdown",
   "metadata": {},
   "source": []
  },
  {
   "cell_type": "markdown",
   "metadata": {},
   "source": [
    "2) (15 pts) You should write a docstring so I know what the function does"
   ]
  },
  {
   "cell_type": "markdown",
   "metadata": {},
   "source": []
  },
  {
   "cell_type": "markdown",
   "metadata": {},
   "source": [
    "3) (15 pts) The function should contain either a precondition, or a postcondition"
   ]
  },
  {
   "cell_type": "markdown",
   "metadata": {},
   "source": []
  },
  {
   "cell_type": "markdown",
   "metadata": {},
   "source": [
    "## Part Three\n",
    "(10 pts)\n",
    "Add all your files, commit the files, and push them to your GitHub. Also include a copy of this notebook in the package. "
   ]
  },
  {
   "cell_type": "code",
   "execution_count": null,
   "metadata": {},
   "outputs": [],
   "source": []
  }
 ],
 "metadata": {
  "kernelspec": {
   "display_name": "Python 3",
   "language": "python",
   "name": "python3"
  },
  "language_info": {
   "codemirror_mode": {
    "name": "ipython",
    "version": 3
   },
   "file_extension": ".py",
   "mimetype": "text/x-python",
   "name": "python",
   "nbconvert_exporter": "python",
   "pygments_lexer": "ipython3",
   "version": "3.6.6"
  },
  "latex_envs": {
   "LaTeX_envs_menu_present": true,
   "autoclose": false,
   "autocomplete": true,
   "bibliofile": "biblio.bib",
   "cite_by": "apalike",
   "current_citInitial": 1,
   "eqLabelWithNumbers": true,
   "eqNumInitial": 1,
   "hotkeys": {
    "equation": "Ctrl-E",
    "itemize": "Ctrl-I"
   },
   "labels_anchors": false,
   "latex_user_defs": false,
   "report_style_numbering": false,
   "user_envs_cfg": false
  },
  "toc": {
   "base_numbering": 1,
   "nav_menu": {},
   "number_sections": true,
   "sideBar": true,
   "skip_h1_title": false,
   "title_cell": "Table of Contents",
   "title_sidebar": "Contents",
   "toc_cell": false,
   "toc_position": {},
   "toc_section_display": true,
   "toc_window_display": false
  }
 },
 "nbformat": 4,
 "nbformat_minor": 2
}
